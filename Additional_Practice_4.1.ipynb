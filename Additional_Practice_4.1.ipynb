{
 "cells": [
  {
   "cell_type": "code",
   "execution_count": 1,
   "metadata": {},
   "outputs": [
    {
     "name": "stdout",
     "output_type": "stream",
     "text": [
      "The entry is: a \n",
      "Oops! <class 'ValueError'> occured.\n",
      "Next Entry\n",
      "The entry is: 0 \n",
      "Oops! <class 'ZeroDivisionError'> occured.\n",
      "Next Entry\n",
      "The entry is: 2 \n",
      "The reciprocal of 2 is : 0.5.\n"
     ]
    }
   ],
   "source": [
    "randomList = ['a', 0,2]\n",
    "for i in randomList:\n",
    "     \n",
    "    try:\n",
    "        print (\"The entry is: %s \" % i)\n",
    "        a=int(i)\n",
    "        c=1/a\n",
    "        print(\"The reciprocal of %s is : %s.\" %(i,c))\n",
    "    except IOError:\n",
    "        print('An error occured trying to read the file.')    \n",
    "    except ValueError:\n",
    "        print(\"Oops! <class 'ValueError'> occured.\")\n",
    "        print('Next Entry') \n",
    "    except ImportError:\n",
    "        print (\"NO module found\")    \n",
    "    except EOFError:\n",
    "        print('Why did you do an EOF on me?')\n",
    "    except KeyboardInterrupt:\n",
    "        print('You cancelled the operation.')\n",
    "    except ZeroDivisionError:\n",
    "        print(\"Oops! <class 'ZeroDivisionError'> occured.\")\n",
    "        print('Next Entry') \n",
    "    except:\n",
    "        print('An error occured.')\n"
   ]
  },
  {
   "cell_type": "code",
   "execution_count": 2,
   "metadata": {},
   "outputs": [
    {
     "name": "stdout",
     "output_type": "stream",
     "text": [
      "Array Out of Bound \n"
     ]
    }
   ],
   "source": [
    "try:\n",
    "    a=[1,2]\n",
    "    print(a[2])\n",
    "except IndexError:\n",
    "    print('Array Out of Bound ')\n",
    "except:\n",
    "    print('An error occured.')\n"
   ]
  },
  {
   "cell_type": "code",
   "execution_count": 3,
   "metadata": {},
   "outputs": [
    {
     "data": {
      "text/plain": [
       "[1, 1, 2, 3, 5, 8, 13, 21, 34, 55, 89, 144, 233, 377, 610, 987]"
      ]
     },
     "execution_count": 3,
     "metadata": {},
     "output_type": "execute_result"
    }
   ],
   "source": [
    "import fibo\n",
    "fibo.fib2(1000)"
   ]
  },
  {
   "cell_type": "code",
   "execution_count": 4,
   "metadata": {},
   "outputs": [
    {
     "data": {
      "text/plain": [
       "[1, 1, 2, 3, 5, 8, 13, 21, 34, 55, 89, 144, 233, 377, 610, 987]"
      ]
     },
     "execution_count": 4,
     "metadata": {},
     "output_type": "execute_result"
    }
   ],
   "source": [
    "import fibo\n",
    "fibo.fib2(1000)"
   ]
  },
  {
   "cell_type": "code",
   "execution_count": 11,
   "metadata": {},
   "outputs": [
    {
     "name": "stdout",
     "output_type": "stream",
     "text": [
      "Please Enter the Palindromestring :malayalam\n",
      "Yes\n"
     ]
    }
   ],
   "source": [
    "import palindrome\n",
    "s = input(\"Please Enter the Palindromestring :\")\n",
    "ans = palindrome.isPalindrome(s) \n",
    "  \n",
    "if ans == 1: \n",
    "    print(\"Yes\") \n",
    "else: \n",
    "    print(\"No\") "
   ]
  },
  {
   "cell_type": "code",
   "execution_count": null,
   "metadata": {},
   "outputs": [],
   "source": []
  }
 ],
 "metadata": {
  "kernelspec": {
   "display_name": "Python 3",
   "language": "python",
   "name": "python3"
  },
  "language_info": {
   "codemirror_mode": {
    "name": "ipython",
    "version": 3
   },
   "file_extension": ".py",
   "mimetype": "text/x-python",
   "name": "python",
   "nbconvert_exporter": "python",
   "pygments_lexer": "ipython3",
   "version": "3.7.0"
  }
 },
 "nbformat": 4,
 "nbformat_minor": 2
}
